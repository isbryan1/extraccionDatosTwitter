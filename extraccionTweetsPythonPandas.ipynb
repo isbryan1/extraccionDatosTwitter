{
 "cells": [
  {
   "cell_type": "markdown",
   "metadata": {},
   "source": [
    "## Extracción de datos de Twitter usando tweepy y mostrar cómo gestionarlos usando pandas"
   ]
  },
  {
   "cell_type": "code",
   "execution_count": null,
   "metadata": {},
   "outputs": [],
   "source": [
    "# !pip install tweepy"
   ]
  },
  {
   "cell_type": "code",
   "execution_count": 2,
   "metadata": {},
   "outputs": [],
   "source": [
    "# General:\n",
    "import tweepy          # Para consumir la API de Tweeter\n",
    "import pandas as pd    # Para análisis de datos\n",
    "import numpy as np  # Para cálculo numérico, también se puede usar como contenedor multidimensional eficiente de datos genéricos"
   ]
  },
  {
   "cell_type": "code",
   "execution_count": 4,
   "metadata": {},
   "outputs": [],
   "source": [
    "# Para visualización con gráficos:\n",
    "import matplotlib.pyplot as plt\n",
    "%matplotlib inline"
   ]
  },
  {
   "cell_type": "code",
   "execution_count": 1,
   "metadata": {},
   "outputs": [],
   "source": [
    "# Importamos nuestras claves de acceso:\n",
    "\n",
    "# Crear archivo credentials.py e ingresar las llaves de la api de Twitter\n",
    "    # CONSUMER_KEY = ''\n",
    "    # CONSUMER_SECRET = ''\n",
    "    # ACCESS_TOKEN = ''\n",
    "    # ACCESS_SECRET = ''\n",
    "    \n",
    "from credentials import *    # Esto nos permite usar las claves como variables"
   ]
  },
  {
   "cell_type": "code",
   "execution_count": 6,
   "metadata": {},
   "outputs": [],
   "source": [
    "# Configuración de la API:\n",
    "def twitter_setup():\n",
    "    \"\"\"\n",
    "    Función de utilidad para configurar la API de Twitter\n",
    "    con nuestras claves de acceso.\n",
    "    \"\"\"\n",
    "    # Autenticación y acceso usando claves:\n",
    "    auth = tweepy.OAuthHandler(CONSUMER_KEY, CONSUMER_SECRET)\n",
    "    auth.set_access_token(ACCESS_TOKEN, ACCESS_SECRET)\n",
    "\n",
    "    # Retornar API con autenticación:\n",
    "    api = tweepy.API(auth)\n",
    "    return api"
   ]
  },
  {
   "cell_type": "code",
   "execution_count": 7,
   "metadata": {},
   "outputs": [
    {
     "name": "stdout",
     "output_type": "stream",
     "text": [
      "Número de tweets extraidos: 200\n",
      "\n",
      "5 tweets más recientes:\n",
      "\n",
      "@JBalarezoB Hola José, realmente lamentamos el malestar ocasionado; asimismo, agradeceríamos nos facilites tus dato… https://t.co/LpNFuf0TK9\n",
      "\n",
      "@mariana30158 Hola Mariana, estamos reiterando tu solicitud con nuestra área encargada. ¡Saludos!\n",
      "\n",
      "@juanc_hurtadog Hola Juan, realmente lamentamos el malestar ocasionado; asimismo, agradeceríamos nos facilites tus… https://t.co/QryWTsaCms\n",
      "\n",
      "@Solangenu Hola Solange, lamentamos el malestar generado. Por favor, bríndanos tus datos por mensaje interno para c… https://t.co/IA7pTGf7c1\n",
      "\n",
      "@Pd2o1405 Hola Pd2O, estamos atendiendo tu consulta por mensaje interno. ¡Saludos!\n",
      "\n"
     ]
    }
   ],
   "source": [
    "# Creamos un objeto extractor:\n",
    "extractor = twitter_setup()\n",
    "\n",
    "# Creamos una lista de tweets:\n",
    "tweets = extractor.user_timeline(screen_name=\"bbva_peru\", count=200)  \n",
    "print(\"Número de tweets extraidos: {}\\n\".format(len(tweets)))\n",
    "\n",
    "# Imprimimos los 5 tweets más recientes:\n",
    "print(\"5 tweets más recientes:\\n\")\n",
    "for tweet in tweets[:5]:\n",
    "    print(tweet.text)\n",
    "    print()"
   ]
  },
  {
   "cell_type": "code",
   "execution_count": 12,
   "metadata": {},
   "outputs": [
    {
     "data": {
      "text/html": [
       "<div>\n",
       "<style scoped>\n",
       "    .dataframe tbody tr th:only-of-type {\n",
       "        vertical-align: middle;\n",
       "    }\n",
       "\n",
       "    .dataframe tbody tr th {\n",
       "        vertical-align: top;\n",
       "    }\n",
       "\n",
       "    .dataframe thead th {\n",
       "        text-align: right;\n",
       "    }\n",
       "</style>\n",
       "<table border=\"1\" class=\"dataframe\">\n",
       "  <thead>\n",
       "    <tr style=\"text-align: right;\">\n",
       "      <th></th>\n",
       "      <th>Tweets</th>\n",
       "    </tr>\n",
       "  </thead>\n",
       "  <tbody>\n",
       "    <tr>\n",
       "      <th>0</th>\n",
       "      <td>@JBalarezoB Hola José, realmente lamentamos el...</td>\n",
       "    </tr>\n",
       "    <tr>\n",
       "      <th>1</th>\n",
       "      <td>@mariana30158 Hola Mariana, estamos reiterando...</td>\n",
       "    </tr>\n",
       "    <tr>\n",
       "      <th>2</th>\n",
       "      <td>@juanc_hurtadog Hola Juan, realmente lamentamo...</td>\n",
       "    </tr>\n",
       "    <tr>\n",
       "      <th>3</th>\n",
       "      <td>@Solangenu Hola Solange, lamentamos el malesta...</td>\n",
       "    </tr>\n",
       "    <tr>\n",
       "      <th>4</th>\n",
       "      <td>@Pd2o1405 Hola Pd2O, estamos atendiendo tu con...</td>\n",
       "    </tr>\n",
       "    <tr>\n",
       "      <th>5</th>\n",
       "      <td>@Fasabi01 Hola Fasabi, lamentamos la mala expe...</td>\n",
       "    </tr>\n",
       "    <tr>\n",
       "      <th>6</th>\n",
       "      <td>@adoptaES Gracias a ti por escribirnos. ¡Que t...</td>\n",
       "    </tr>\n",
       "    <tr>\n",
       "      <th>7</th>\n",
       "      <td>@adoptaES Hola, te comentamos que si la transf...</td>\n",
       "    </tr>\n",
       "    <tr>\n",
       "      <th>8</th>\n",
       "      <td>@ChristiamAndia Hola Christiam, seguimos con l...</td>\n",
       "    </tr>\n",
       "    <tr>\n",
       "      <th>9</th>\n",
       "      <td>@mariana30158 Mariana, acabamos de tomar todos...</td>\n",
       "    </tr>\n",
       "  </tbody>\n",
       "</table>\n",
       "</div>"
      ],
      "text/plain": [
       "                                              Tweets\n",
       "0  @JBalarezoB Hola José, realmente lamentamos el...\n",
       "1  @mariana30158 Hola Mariana, estamos reiterando...\n",
       "2  @juanc_hurtadog Hola Juan, realmente lamentamo...\n",
       "3  @Solangenu Hola Solange, lamentamos el malesta...\n",
       "4  @Pd2o1405 Hola Pd2O, estamos atendiendo tu con...\n",
       "5  @Fasabi01 Hola Fasabi, lamentamos la mala expe...\n",
       "6  @adoptaES Gracias a ti por escribirnos. ¡Que t...\n",
       "7  @adoptaES Hola, te comentamos que si la transf...\n",
       "8  @ChristiamAndia Hola Christiam, seguimos con l...\n",
       "9  @mariana30158 Mariana, acabamos de tomar todos..."
      ]
     },
     "execution_count": 12,
     "metadata": {},
     "output_type": "execute_result"
    }
   ],
   "source": [
    "# Creamos una dataframe de pandas:\n",
    "data = pd.DataFrame(data=[tweet.text for tweet in tweets], columns=['Tweets'])\n",
    "\n",
    "# Dibujamos los 10 primeros elementos del dataframe:\n",
    "data.head(10)"
   ]
  },
  {
   "cell_type": "code",
   "execution_count": 9,
   "metadata": {},
   "outputs": [
    {
     "name": "stdout",
     "output_type": "stream",
     "text": [
      "['__class__', '__delattr__', '__dict__', '__dir__', '__doc__', '__eq__', '__format__', '__ge__', '__getattribute__', '__getstate__', '__gt__', '__hash__', '__init__', '__init_subclass__', '__le__', '__lt__', '__module__', '__ne__', '__new__', '__reduce__', '__reduce_ex__', '__repr__', '__setattr__', '__sizeof__', '__str__', '__subclasshook__', '__weakref__', '_api', '_json', 'author', 'contributors', 'coordinates', 'created_at', 'destroy', 'entities', 'favorite', 'favorite_count', 'favorited', 'geo', 'id', 'id_str', 'in_reply_to_screen_name', 'in_reply_to_status_id', 'in_reply_to_status_id_str', 'in_reply_to_user_id', 'in_reply_to_user_id_str', 'is_quote_status', 'lang', 'parse', 'parse_list', 'place', 'retweet', 'retweet_count', 'retweeted', 'retweets', 'source', 'source_url', 'text', 'truncated', 'user']\n"
     ]
    }
   ],
   "source": [
    "# Métodos internos de un objeto tweet:\n",
    "print(dir(tweets[0]))"
   ]
  },
  {
   "cell_type": "code",
   "execution_count": 13,
   "metadata": {},
   "outputs": [
    {
     "name": "stdout",
     "output_type": "stream",
     "text": [
      "1159864943224795137\n",
      "2019-08-09 16:32:06\n",
      "S1Gateway\n",
      "0\n",
      "0\n",
      "{'hashtags': [], 'symbols': [], 'user_mentions': [{'screen_name': 'JBalarezoB', 'name': 'José Balarezo B.', 'id': 1898942472, 'id_str': '1898942472', 'indices': [0, 11]}], 'urls': [{'url': 'https://t.co/LpNFuf0TK9', 'expanded_url': 'https://twitter.com/i/web/status/1159864943224795137', 'display_url': 'twitter.com/i/web/status/1…', 'indices': [117, 140]}]}\n"
     ]
    }
   ],
   "source": [
    "# Imprimimos la información del primer tweet:\n",
    "print(tweets[0].id)\n",
    "print(tweets[0].created_at)\n",
    "print(tweets[0].source)\n",
    "print(tweets[0].favorite_count)\n",
    "print(tweets[0].retweet_count)\n",
    "print(tweets[0].entities)"
   ]
  },
  {
   "cell_type": "code",
   "execution_count": 15,
   "metadata": {},
   "outputs": [
    {
     "data": {
      "text/html": [
       "<div>\n",
       "<style scoped>\n",
       "    .dataframe tbody tr th:only-of-type {\n",
       "        vertical-align: middle;\n",
       "    }\n",
       "\n",
       "    .dataframe tbody tr th {\n",
       "        vertical-align: top;\n",
       "    }\n",
       "\n",
       "    .dataframe thead th {\n",
       "        text-align: right;\n",
       "    }\n",
       "</style>\n",
       "<table border=\"1\" class=\"dataframe\">\n",
       "  <thead>\n",
       "    <tr style=\"text-align: right;\">\n",
       "      <th></th>\n",
       "      <th>Tweets</th>\n",
       "      <th>longitud</th>\n",
       "      <th>ID</th>\n",
       "      <th>Fecha</th>\n",
       "      <th>Fuente</th>\n",
       "      <th>Likes</th>\n",
       "      <th>RTs</th>\n",
       "    </tr>\n",
       "  </thead>\n",
       "  <tbody>\n",
       "    <tr>\n",
       "      <th>0</th>\n",
       "      <td>@JBalarezoB Hola José, realmente lamentamos el...</td>\n",
       "      <td>140</td>\n",
       "      <td>1159864943224795137</td>\n",
       "      <td>2019-08-09 16:32:06</td>\n",
       "      <td>S1Gateway</td>\n",
       "      <td>0</td>\n",
       "      <td>0</td>\n",
       "    </tr>\n",
       "    <tr>\n",
       "      <th>1</th>\n",
       "      <td>@mariana30158 Hola Mariana, estamos reiterando...</td>\n",
       "      <td>97</td>\n",
       "      <td>1159861249754243074</td>\n",
       "      <td>2019-08-09 16:17:25</td>\n",
       "      <td>S1Gateway</td>\n",
       "      <td>1</td>\n",
       "      <td>0</td>\n",
       "    </tr>\n",
       "    <tr>\n",
       "      <th>2</th>\n",
       "      <td>@juanc_hurtadog Hola Juan, realmente lamentamo...</td>\n",
       "      <td>139</td>\n",
       "      <td>1159535759344504837</td>\n",
       "      <td>2019-08-08 18:44:02</td>\n",
       "      <td>S1Gateway</td>\n",
       "      <td>1</td>\n",
       "      <td>0</td>\n",
       "    </tr>\n",
       "    <tr>\n",
       "      <th>3</th>\n",
       "      <td>@Solangenu Hola Solange, lamentamos el malesta...</td>\n",
       "      <td>140</td>\n",
       "      <td>1159531142447534081</td>\n",
       "      <td>2019-08-08 18:25:42</td>\n",
       "      <td>S1Gateway</td>\n",
       "      <td>0</td>\n",
       "      <td>0</td>\n",
       "    </tr>\n",
       "    <tr>\n",
       "      <th>4</th>\n",
       "      <td>@Pd2o1405 Hola Pd2O, estamos atendiendo tu con...</td>\n",
       "      <td>82</td>\n",
       "      <td>1159504541483749383</td>\n",
       "      <td>2019-08-08 16:39:59</td>\n",
       "      <td>S1Gateway</td>\n",
       "      <td>0</td>\n",
       "      <td>0</td>\n",
       "    </tr>\n",
       "    <tr>\n",
       "      <th>5</th>\n",
       "      <td>@Fasabi01 Hola Fasabi, lamentamos la mala expe...</td>\n",
       "      <td>140</td>\n",
       "      <td>1159492750540267520</td>\n",
       "      <td>2019-08-08 15:53:08</td>\n",
       "      <td>S1Gateway</td>\n",
       "      <td>0</td>\n",
       "      <td>0</td>\n",
       "    </tr>\n",
       "    <tr>\n",
       "      <th>6</th>\n",
       "      <td>@adoptaES Gracias a ti por escribirnos. ¡Que t...</td>\n",
       "      <td>69</td>\n",
       "      <td>1159474457020391424</td>\n",
       "      <td>2019-08-08 14:40:27</td>\n",
       "      <td>S1Gateway</td>\n",
       "      <td>0</td>\n",
       "      <td>0</td>\n",
       "    </tr>\n",
       "    <tr>\n",
       "      <th>7</th>\n",
       "      <td>@adoptaES Hola, te comentamos que si la transf...</td>\n",
       "      <td>140</td>\n",
       "      <td>1159473281327665154</td>\n",
       "      <td>2019-08-08 14:35:46</td>\n",
       "      <td>S1Gateway</td>\n",
       "      <td>0</td>\n",
       "      <td>0</td>\n",
       "    </tr>\n",
       "    <tr>\n",
       "      <th>8</th>\n",
       "      <td>@ChristiamAndia Hola Christiam, seguimos con l...</td>\n",
       "      <td>112</td>\n",
       "      <td>1159259798552137732</td>\n",
       "      <td>2019-08-08 00:27:28</td>\n",
       "      <td>S1Gateway</td>\n",
       "      <td>0</td>\n",
       "      <td>0</td>\n",
       "    </tr>\n",
       "    <tr>\n",
       "      <th>9</th>\n",
       "      <td>@mariana30158 Mariana, acabamos de tomar todos...</td>\n",
       "      <td>139</td>\n",
       "      <td>1159194884605173760</td>\n",
       "      <td>2019-08-07 20:09:31</td>\n",
       "      <td>S1Gateway</td>\n",
       "      <td>0</td>\n",
       "      <td>0</td>\n",
       "    </tr>\n",
       "  </tbody>\n",
       "</table>\n",
       "</div>"
      ],
      "text/plain": [
       "                                              Tweets  longitud  \\\n",
       "0  @JBalarezoB Hola José, realmente lamentamos el...       140   \n",
       "1  @mariana30158 Hola Mariana, estamos reiterando...        97   \n",
       "2  @juanc_hurtadog Hola Juan, realmente lamentamo...       139   \n",
       "3  @Solangenu Hola Solange, lamentamos el malesta...       140   \n",
       "4  @Pd2o1405 Hola Pd2O, estamos atendiendo tu con...        82   \n",
       "5  @Fasabi01 Hola Fasabi, lamentamos la mala expe...       140   \n",
       "6  @adoptaES Gracias a ti por escribirnos. ¡Que t...        69   \n",
       "7  @adoptaES Hola, te comentamos que si la transf...       140   \n",
       "8  @ChristiamAndia Hola Christiam, seguimos con l...       112   \n",
       "9  @mariana30158 Mariana, acabamos de tomar todos...       139   \n",
       "\n",
       "                    ID               Fecha     Fuente  Likes  RTs  \n",
       "0  1159864943224795137 2019-08-09 16:32:06  S1Gateway      0    0  \n",
       "1  1159861249754243074 2019-08-09 16:17:25  S1Gateway      1    0  \n",
       "2  1159535759344504837 2019-08-08 18:44:02  S1Gateway      1    0  \n",
       "3  1159531142447534081 2019-08-08 18:25:42  S1Gateway      0    0  \n",
       "4  1159504541483749383 2019-08-08 16:39:59  S1Gateway      0    0  \n",
       "5  1159492750540267520 2019-08-08 15:53:08  S1Gateway      0    0  \n",
       "6  1159474457020391424 2019-08-08 14:40:27  S1Gateway      0    0  \n",
       "7  1159473281327665154 2019-08-08 14:35:46  S1Gateway      0    0  \n",
       "8  1159259798552137732 2019-08-08 00:27:28  S1Gateway      0    0  \n",
       "9  1159194884605173760 2019-08-07 20:09:31  S1Gateway      0    0  "
      ]
     },
     "execution_count": 15,
     "metadata": {},
     "output_type": "execute_result"
    }
   ],
   "source": [
    "# Añadimos los datos relevantes:\n",
    "data['longitud']  = np.array([len(tweet.text) for tweet in tweets])\n",
    "data['ID']   = np.array([tweet.id for tweet in tweets])\n",
    "data['Fecha'] = np.array([tweet.created_at for tweet in tweets])\n",
    "data['Fuente'] = np.array([tweet.source for tweet in tweets])\n",
    "data['Likes']  = np.array([tweet.favorite_count for tweet in tweets])\n",
    "data['RTs']    = np.array([tweet.retweet_count for tweet in tweets])\n",
    "\n",
    "# Mostramos los 10 primeros elementos del dataframe:\n",
    "data.head(10)"
   ]
  },
  {
   "cell_type": "markdown",
   "metadata": {},
   "source": [
    "### Estadisticas"
   ]
  },
  {
   "cell_type": "code",
   "execution_count": 19,
   "metadata": {},
   "outputs": [
    {
     "name": "stdout",
     "output_type": "stream",
     "text": [
      "La longitud media de los tweets: 123.82\n"
     ]
    }
   ],
   "source": [
    "# Sacamos la media de las longitudes:\n",
    "mean = np.mean(data['longitud'])\n",
    "\n",
    "print(\"La longitud media de los tweets: {}\".format(mean))"
   ]
  },
  {
   "cell_type": "code",
   "execution_count": 33,
   "metadata": {},
   "outputs": [
    {
     "name": "stdout",
     "output_type": "stream",
     "text": [
      "El tweet con más <Me gusta> es: \n",
      "¿Qué se te viene a la cabeza cuando hablamos de 'orgullo peruano'? Para @rominantoniazzi son muchos recuerdos con l… https://t.co/nTUsgpKYqA\n",
      "Número de <Me gusta>: 94\n",
      "140 caracteres.\n",
      "\n",
      "El tweet más retuiteado es: \n",
      "Ya son campeones ❤️\n",
      "\n",
      "#BancoDeLaSeleccion https://t.co/le9mYyKytG\n",
      "Número de retweets: 17\n",
      "64 caracteres.\n",
      "\n"
     ]
    }
   ],
   "source": [
    "# Sacamos el tweet con más \"Me gusta\" y el más retuiteado:\n",
    "fav_max = np.max(data['Likes'])\n",
    "rt_max  = np.max(data['RTs'])\n",
    "\n",
    "fav = data[data.Likes == fav_max].index[0]\n",
    "rt  = data[data.RTs == rt_max].index[0]\n",
    "\n",
    "# Tweet que más ha gustado:\n",
    "print(\"El tweet con más <Me gusta> es: \\n{}\".format(data['Tweets'][fav]))\n",
    "print(\"Número de <Me gusta>: {}\".format(fav_max))\n",
    "print(\"{} caracteres.\\n\".format(data['longitud'][fav]))\n",
    "\n",
    "# Tweet más retuiteado:\n",
    "print(\"El tweet más retuiteado es: \\n{}\".format(data['Tweets'][rt]))\n",
    "print(\"Número de retweets: {}\".format(rt_max))\n",
    "print(\"{} caracteres.\\n\".format(data['longitud'][rt]))"
   ]
  },
  {
   "cell_type": "markdown",
   "metadata": {},
   "source": [
    "### Visualización"
   ]
  },
  {
   "cell_type": "code",
   "execution_count": 34,
   "metadata": {},
   "outputs": [],
   "source": [
    "# Creamos las series temporales de datos de los tweets:\n",
    "tlen = pd.Series(data=data['longitud'].values, index=data['Fecha'])\n",
    "tfav = pd.Series(data=data['Likes'].values, index=data['Fecha'])\n",
    "tret = pd.Series(data=data['RTs'].values, index=data['Fecha'])"
   ]
  },
  {
   "cell_type": "code",
   "execution_count": 42,
   "metadata": {},
   "outputs": [
    {
     "data": {
      "image/png": "[encoded data removed]",
      "text/plain": [
       "<Figure size 1152x288 with 1 Axes>"
      ]
     },
     "metadata": {
      "needs_background": "light"
     },
     "output_type": "display_data"
    }
   ],
   "source": [
    "# Variación de las longitudes de tweets con el tiempo:\n",
    "tlen.plot(figsize=(16,4), color='r');"
   ]
  },
  {
   "cell_type": "code",
   "execution_count": 43,
   "metadata": {},
   "outputs": [
    {
     "data": {
      "image/png": "[encoded data removed]",
      "text/plain": [
       "<Figure size 1152x288 with 1 Axes>"
      ]
     },
     "metadata": {
      "needs_background": "light"
     },
     "output_type": "display_data"
    }
   ],
   "source": [
    "# Visualización de Me gusta vs Retuits, en el mismo gráfico:\n",
    "tfav.plot(figsize=(16,4), label=\"Me gusta\", legend=True)\n",
    "tret.plot(figsize=(16,4), label=\"Retuits\", legend=True);"
   ]
  },
  {
   "cell_type": "code",
   "execution_count": 48,
   "metadata": {},
   "outputs": [
    {
     "name": "stdout",
     "output_type": "stream",
     "text": [
      "Creación de fuentes de contenido:\n",
      "* S1Gateway\n",
      "* Twitter Web App\n",
      "* Twitter for iPhone\n",
      "* Twitter Web Client\n"
     ]
    }
   ],
   "source": [
    "# Ahora voy a visualizar las fuentes en un gráfico de tarta\n",
    "\n",
    "# Obtener todas las fuentes posibles:\n",
    "fuentes = []\n",
    "for fuente in data['Fuente']:\n",
    "    if fuente not in fuentes:\n",
    "        fuentes.append(fuente)\n",
    "\n",
    "# Imprimir la lista de fuentes:\n",
    "print(\"Creación de fuentes de contenido:\")\n",
    "for fuente in fuentes:\n",
    "    #print(\"* {}\".format(fuente))\n",
    "    print(\"* \" + fuente)"
   ]
  },
  {
   "cell_type": "code",
   "execution_count": 56,
   "metadata": {},
   "outputs": [
    {
     "data": {
      "image/png": "[encoded data removed]",
      "text/plain": [
       "<Figure size 432x432 with 1 Axes>"
      ]
     },
     "metadata": {},
     "output_type": "display_data"
    }
   ],
   "source": [
    "# Creamos un vector numpy mapeado a las etiquetas:\n",
    "percent = np.zeros(len(fuentes))\n",
    "\n",
    "for fuente in data['Fuente']:\n",
    "    for indice in range(len(fuentes)):\n",
    "        if fuente == fuentes[indice]:\n",
    "            percent[indice] += 1\n",
    "\n",
    "percent /= 100\n",
    "\n",
    "# Gráfico de tarta:\n",
    "tarta = pd.Series(percent, index=fuentes, name='Fuentes')\n",
    "tarta.plot.pie(fontsize=11, autopct='%.2f', figsize=(6, 6));"
   ]
  }
 ],
 "metadata": {
  "kernelspec": {
   "display_name": "Python 3",
   "language": "python",
   "name": "python3"
  },
  "language_info": {
   "codemirror_mode": {
    "name": "ipython",
    "version": 3
   },
   "file_extension": ".py",
   "mimetype": "text/x-python",
   "name": "python",
   "nbconvert_exporter": "python",
   "pygments_lexer": "ipython3",
   "version": "3.7.1"
  }
 },
 "nbformat": 4,
 "nbformat_minor": 2
}
